{
 "cells": [
  {
   "cell_type": "markdown",
   "id": "e9a3c8ac",
   "metadata": {},
   "source": [
    "Question 4.1"
   ]
  },
  {
   "cell_type": "code",
   "execution_count": 1,
   "id": "4eda2857",
   "metadata": {},
   "outputs": [],
   "source": [
    "secret = 7"
   ]
  },
  {
   "cell_type": "code",
   "execution_count": 2,
   "id": "4240864f",
   "metadata": {},
   "outputs": [],
   "source": [
    "guess = 5"
   ]
  },
  {
   "cell_type": "code",
   "execution_count": 3,
   "id": "8ec1150a",
   "metadata": {},
   "outputs": [
    {
     "name": "stdout",
     "output_type": "stream",
     "text": [
      "too low\n"
     ]
    }
   ],
   "source": [
    "if (guess < secret):\n",
    "    print(\"too low\")\n",
    "elif (guess > secret):\n",
    "    print(\"too high\")\n",
    "else:\n",
    "    print(\"just right\")"
   ]
  },
  {
   "cell_type": "markdown",
   "id": "ddaa1d02",
   "metadata": {},
   "source": [
    "Question 4.2"
   ]
  },
  {
   "cell_type": "code",
   "execution_count": 4,
   "id": "65744725",
   "metadata": {},
   "outputs": [],
   "source": [
    "small = True\n",
    "green = True"
   ]
  },
  {
   "cell_type": "code",
   "execution_count": 5,
   "id": "03b7b4b0",
   "metadata": {},
   "outputs": [
    {
     "name": "stdout",
     "output_type": "stream",
     "text": [
      "pea\n"
     ]
    }
   ],
   "source": [
    "if small and green:\n",
    "    print(\"pea\")\n",
    "elif small and not green:\n",
    "    print(\"cherry\")\n",
    "elif not small and green:\n",
    "    print(\"watermelon\")\n",
    "elif not small and not green:\n",
    "    print(\"pumpkin\")"
   ]
  },
  {
   "cell_type": "markdown",
   "id": "22b44a4c",
   "metadata": {},
   "source": [
    "Question 6.1"
   ]
  },
  {
   "cell_type": "code",
   "execution_count": 6,
   "id": "711fef33",
   "metadata": {},
   "outputs": [
    {
     "name": "stdout",
     "output_type": "stream",
     "text": [
      "3\n",
      "2\n",
      "1\n",
      "0\n"
     ]
    }
   ],
   "source": [
    "for i in [3, 2, 1, 0]:\n",
    "    print(i)"
   ]
  },
  {
   "cell_type": "markdown",
   "id": "63ea8b4d",
   "metadata": {},
   "source": [
    "Question 6.2"
   ]
  },
  {
   "cell_type": "code",
   "execution_count": 8,
   "id": "cdf41a3b",
   "metadata": {},
   "outputs": [],
   "source": [
    "guess_me = 7\n",
    "number = 1"
   ]
  },
  {
   "cell_type": "code",
   "execution_count": 11,
   "id": "525824bc",
   "metadata": {},
   "outputs": [
    {
     "name": "stdout",
     "output_type": "stream",
     "text": [
      "too low\n",
      "too low\n",
      "too low\n",
      "too low\n",
      "too low\n",
      "too low\n",
      "found it!\n"
     ]
    }
   ],
   "source": [
    "while 1 == 1:\n",
    "    if (guess_me == number):\n",
    "        print(\"found it!\")\n",
    "        break\n",
    "    elif (guess_me < number):\n",
    "        print(\"oops\")\n",
    "        break\n",
    "    else:\n",
    "        print(\"too low\")\n",
    "        number += 1"
   ]
  },
  {
   "cell_type": "markdown",
   "id": "5046072a",
   "metadata": {},
   "source": [
    "Question 6.3"
   ]
  },
  {
   "cell_type": "code",
   "execution_count": 14,
   "id": "67403df0",
   "metadata": {},
   "outputs": [],
   "source": [
    "guess_me = 5"
   ]
  },
  {
   "cell_type": "code",
   "execution_count": 15,
   "id": "fde4ce62",
   "metadata": {},
   "outputs": [
    {
     "name": "stdout",
     "output_type": "stream",
     "text": [
      "too low\n",
      "too low\n",
      "too low\n",
      "too low\n",
      "too low\n",
      "found it!\n"
     ]
    }
   ],
   "source": [
    "for number in range(10):\n",
    "    if (guess_me == number):\n",
    "        print(\"found it!\")\n",
    "        break\n",
    "    elif (guess_me < number):\n",
    "        print(\"oops\")\n",
    "        break\n",
    "    else:\n",
    "        print(\"too low\")"
   ]
  },
  {
   "cell_type": "code",
   "execution_count": null,
   "id": "4176f063",
   "metadata": {},
   "outputs": [],
   "source": []
  }
 ],
 "metadata": {
  "kernelspec": {
   "display_name": "Python 3 (ipykernel)",
   "language": "python",
   "name": "python3"
  },
  "language_info": {
   "codemirror_mode": {
    "name": "ipython",
    "version": 3
   },
   "file_extension": ".py",
   "mimetype": "text/x-python",
   "name": "python",
   "nbconvert_exporter": "python",
   "pygments_lexer": "ipython3",
   "version": "3.11.4"
  }
 },
 "nbformat": 4,
 "nbformat_minor": 5
}
